{
  "nbformat": 4,
  "nbformat_minor": 0,
  "metadata": {
    "colab": {
      "provenance": [],
      "gpuType": "T4",
      "collapsed_sections": [
        "xy3fR5Uhj5as"
      ],
      "toc_visible": true,
      "include_colab_link": true
    },
    "kernelspec": {
      "name": "python3",
      "display_name": "Python 3"
    },
    "language_info": {
      "name": "python"
    }
  },
  "cells": [
    {
      "cell_type": "markdown",
      "metadata": {
        "id": "view-in-github",
        "colab_type": "text"
      },
      "source": [
        "<a href=\"https://colab.research.google.com/github/Filquichante/Machine-learning-projects/blob/main/01_Basics.ipynb\" target=\"_parent\"><img src=\"https://colab.research.google.com/assets/colab-badge.svg\" alt=\"Open In Colab\"/></a>"
      ]
    },
    {
      "cell_type": "markdown",
      "source": [
        "###Mon premier réseau de neurones (deux neurones, c'est déjà mieux que un seul)"
      ],
      "metadata": {
        "id": "xy3fR5Uhj5as"
      }
    },
    {
      "cell_type": "code",
      "source": [
        "import torch\n",
        "from torch import nn\n",
        "import matplotlib.pyplot as mp\n",
        "import numpy as np\n",
        "\n",
        "torch.__version__"
      ],
      "metadata": {
        "colab": {
          "base_uri": "https://localhost:8080/",
          "height": 36
        },
        "id": "sxyeQfiZ3yoa",
        "outputId": "124eb02c-6915-4bcf-c008-4595324303c3"
      },
      "execution_count": null,
      "outputs": [
        {
          "output_type": "execute_result",
          "data": {
            "text/plain": [
              "'2.0.1+cu118'"
            ],
            "application/vnd.google.colaboratory.intrinsic+json": {
              "type": "string"
            }
          },
          "metadata": {},
          "execution_count": 16
        }
      ]
    },
    {
      "cell_type": "code",
      "source": [
        "a = 0.8\n",
        "b = 0.2\n",
        "\n",
        "\n",
        "X = torch.arange(0,1,0.02).unsqueeze(dim=1)\n",
        "y = a*X + b\n",
        "\n",
        "X[:10], y[:10]\n"
      ],
      "metadata": {
        "id": "fSABMh6VDa4V",
        "colab": {
          "base_uri": "https://localhost:8080/"
        },
        "outputId": "8d202676-4a95-480f-ec74-3b16a176ea42"
      },
      "execution_count": null,
      "outputs": [
        {
          "output_type": "execute_result",
          "data": {
            "text/plain": [
              "(tensor([[0.0000],\n",
              "         [0.0200],\n",
              "         [0.0400],\n",
              "         [0.0600],\n",
              "         [0.0800],\n",
              "         [0.1000],\n",
              "         [0.1200],\n",
              "         [0.1400],\n",
              "         [0.1600],\n",
              "         [0.1800]]),\n",
              " tensor([[0.2000],\n",
              "         [0.2160],\n",
              "         [0.2320],\n",
              "         [0.2480],\n",
              "         [0.2640],\n",
              "         [0.2800],\n",
              "         [0.2960],\n",
              "         [0.3120],\n",
              "         [0.3280],\n",
              "         [0.3440]]))"
            ]
          },
          "metadata": {},
          "execution_count": 17
        }
      ]
    },
    {
      "cell_type": "code",
      "source": [
        "train_size = int(len(X)*0.8)\n",
        "\n",
        "X_train, y_train = X[:train_size], y[:train_size]\n",
        "X_test, y_test = X[train_size:], y[train_size:]"
      ],
      "metadata": {
        "id": "LOiaLxsXHBWk"
      },
      "execution_count": null,
      "outputs": []
    },
    {
      "cell_type": "code",
      "source": [
        "def display(predictions=None):\n",
        "  mp.figure(1)\n",
        "  mp.scatter(X_train,y_train,s=0.5,c=\"b\")\n",
        "  mp.scatter(X_test,y_test,s=0.5,c=\"orange\")\n",
        "  try:\n",
        "    mp.scatter(X_test,predictions, s=0.5, c=\"green\")\n",
        "  except:\n",
        "    pass\n",
        "  mp.show()\n",
        "\n",
        "display()"
      ],
      "metadata": {
        "id": "45-sxQSiEhxu",
        "colab": {
          "base_uri": "https://localhost:8080/",
          "height": 430
        },
        "outputId": "a8a3554b-e28b-4d51-8eda-e8d9334ed616"
      },
      "execution_count": null,
      "outputs": [
        {
          "output_type": "display_data",
          "data": {
            "text/plain": [
              "<Figure size 640x480 with 1 Axes>"
            ],
            "image/png": "[encoded data removed]"
          },
          "metadata": {}
        }
      ]
    },
    {
      "cell_type": "code",
      "source": [
        "class LinearRegressionModel(nn.Module):\n",
        "  def __init__(self):\n",
        "    super().__init__()\n",
        "    self.a = nn.Parameter(torch.randn(1,\n",
        "                                      requires_grad=True,\n",
        "                                      dtype=torch.double))\n",
        "    self.b = nn.Parameter(torch.randn(1,\n",
        "                                        requires_grad=True,\n",
        "                                        dtype=torch.double))\n",
        "\n",
        "  def forward(self,x:torch.Tensor) -> torch.Tensor:\n",
        "    return self.a*x+self.b\n"
      ],
      "metadata": {
        "id": "ej4ZP7l0C_Ey"
      },
      "execution_count": null,
      "outputs": []
    },
    {
      "cell_type": "code",
      "source": [
        "torch.manual_seed(42)\n",
        "model = LinearRegressionModel()\n",
        "print(f\"{list(model.parameters())}\\n {model.state_dict()}\\n {a,b}\")\n",
        "#for i in range(len(model.forward(X_test))):\n",
        "#  print(y_test[i],model.forward(X_test)[i])"
      ],
      "metadata": {
        "id": "wGjiiQtYCyVK",
        "colab": {
          "base_uri": "https://localhost:8080/"
        },
        "outputId": "25e708cb-f08f-4a29-be25-b73932e9704a"
      },
      "execution_count": null,
      "outputs": [
        {
          "output_type": "stream",
          "name": "stdout",
          "text": [
            "[Parameter containing:\n",
            "tensor([0.3367], dtype=torch.float64, requires_grad=True), Parameter containing:\n",
            "tensor([0.1288], dtype=torch.float64, requires_grad=True)]\n",
            " OrderedDict([('a', tensor([0.3367], dtype=torch.float64)), ('b', tensor([0.1288], dtype=torch.float64))])\n",
            " (0.8, 0.2)\n"
          ]
        }
      ]
    },
    {
      "cell_type": "code",
      "source": [
        "with torch.inference_mode():\n",
        "  y_preds = model(X_test)\n",
        "\n",
        "display(predictions=y_preds)"
      ],
      "metadata": {
        "id": "iwM-BfJMwFtf",
        "colab": {
          "base_uri": "https://localhost:8080/",
          "height": 430
        },
        "outputId": "726000e8-ca43-4ed6-dee6-63568439608e"
      },
      "execution_count": null,
      "outputs": [
        {
          "output_type": "display_data",
          "data": {
            "text/plain": [
              "<Figure size 640x480 with 1 Axes>"
            ],
            "image/png": "[encoded data removed]"
          },
          "metadata": {}
        }
      ]
    },
    {
      "cell_type": "markdown",
      "source": [
        "Maintenant, on cherche à crer une fonction d'erreur, pour mesurer à quel point le modèle est mauvais (ou bon). Ici, on va simplement prendre l'écart absolu moyen = L1 = MAE\n",
        "On ajoute aussi un optimizer : un algorythme qui réduit la fonction d'erreur."
      ],
      "metadata": {
        "id": "8MN2HRGlFy-Z"
      }
    },
    {
      "cell_type": "code",
      "source": [
        "loss_fn = torch.nn.L1Loss()\n",
        "optimizer = torch.optim.SGD(params=model.parameters(),\n",
        "                            lr=0.001) #Stochastic Gradient Descent ; lr = learning rate"
      ],
      "metadata": {
        "id": "R_TbgVX5GIBC"
      },
      "execution_count": null,
      "outputs": []
    },
    {
      "cell_type": "markdown",
      "source": [
        "Maintenant, on crée la boucle d'entrainement, puis de test"
      ],
      "metadata": {
        "id": "_RSOfslEJKZh"
      }
    },
    {
      "cell_type": "code",
      "source": [
        "list_loss = []\n",
        "list_epochs = []\n",
        "list_test_loss = []"
      ],
      "metadata": {
        "id": "274MQXd0Voh1"
      },
      "execution_count": null,
      "outputs": []
    },
    {
      "cell_type": "code",
      "source": [
        "\n",
        "epochs = 10000\n",
        "\n",
        "def loop(loop_size=epochs, optimizer=optimizer, loss_fn=loss_fn, model=model):\n",
        "  for epoch in range(epochs):\n",
        "    model.train() #train\n",
        "    y_pred = model(X_train)\n",
        "    loss = loss_fn(y_pred, y_train)\n",
        "    optimizer.zero_grad()\n",
        "    loss.backward()\n",
        "    optimizer.step()\n",
        "    model.eval() #test\n",
        "    with torch.inference_mode():\n",
        "      test_pred = model(X_test)\n",
        "      test_loss = loss_fn(test_pred, y_test)\n",
        "\n",
        "    #Askip c'est mieux de faire un petit rapport de la situation de temps en temps, donc go\n",
        "      if epoch%(epochs/10)==0:\n",
        "        list_test_loss.append(np.array(test_loss))\n",
        "        list_loss.append(np.array(loss))\n",
        "        list_epochs.append(epoch)\n",
        "\n",
        "  #Ceci n'est pas dans la boucle, on affiche simplement les trucs intéressants (cool stuff)\n",
        "  mp.figure(2)\n",
        "  mp.figure().clear()\n",
        "\n",
        "  mp.scatter(list_epochs,list_loss)\n",
        "  mp.scatter(list_epochs,list_test_loss)\n",
        "  print(list_loss[:10])\n",
        "  print(list_test_loss[:10])\n",
        "  print(model.state_dict())\n",
        "\n",
        "\n",
        "loop()\n",
        "\n"
      ],
      "metadata": {
        "id": "HvvIoVHEJO4O",
        "colab": {
          "base_uri": "https://localhost:8080/",
          "height": 524
        },
        "outputId": "91ffa495-6af5-4711-dcc3-07121d4ea997"
      },
      "execution_count": null,
      "outputs": [
        {
          "output_type": "stream",
          "name": "stdout",
          "text": [
            "[array(0.25188136), array(0.04567943), array(0.01133689), array(0.0007091), array(0.0007091), array(0.0007091), array(0.0007091), array(0.0007091), array(0.0007091), array(0.0007091)]\n",
            "[array(0.48218909), array(0.10675573), array(0.02643588), array(0.00022968), array(0.00022968), array(0.00022968), array(0.00022968), array(0.00022968), array(0.00022968), array(0.00022968)]\n",
            "OrderedDict([('a', tensor([0.7992], dtype=torch.float64)), ('b', tensor([0.1996], dtype=torch.float64))])\n"
          ]
        },
        {
          "output_type": "display_data",
          "data": {
            "text/plain": [
              "<Figure size 640x480 with 0 Axes>"
            ]
          },
          "metadata": {}
        },
        {
          "output_type": "display_data",
          "data": {
            "text/plain": [
              "<Figure size 640x480 with 1 Axes>"
            ],
            "image/png": "[encoded data removed]"
          },
          "metadata": {}
        }
      ]
    },
    {
      "cell_type": "code",
      "source": [
        "with torch.no_grad():\n",
        "  y_pred = model(X_test)\n",
        "display(predictions=y_preds)\n",
        "display(predictions=y_pred)\n",
        "print(model.state_dict())"
      ],
      "metadata": {
        "id": "9pU3pyTH10db",
        "colab": {
          "base_uri": "https://localhost:8080/",
          "height": 861
        },
        "outputId": "2c474c62-f3e7-4dae-eba7-d6ea36cf62ee"
      },
      "execution_count": null,
      "outputs": [
        {
          "output_type": "display_data",
          "data": {
            "text/plain": [
              "<Figure size 640x480 with 1 Axes>"
            ],
            "image/png": "[encoded data removed]"
          },
          "metadata": {}
        },
        {
          "output_type": "display_data",
          "data": {
            "text/plain": [
              "<Figure size 640x480 with 1 Axes>"
            ],
            "image/png": "[encoded data removed]"
          },
          "metadata": {}
        },
        {
          "output_type": "stream",
          "name": "stdout",
          "text": [
            "OrderedDict([('a', tensor([0.7992], dtype=torch.float64)), ('b', tensor([0.1996], dtype=torch.float64))])\n"
          ]
        }
      ]
    },
    {
      "cell_type": "code",
      "source": [
        "\n",
        "class Ronaldo():\n",
        "  def __init__(self):\n",
        "    print(\"SIUUUU\")\n",
        "ronaldo = Ronaldo()\n",
        "class SIUUUUUU(Ronaldo):\n",
        "  def __init__(self):\n",
        "    super().__init__()\n",
        "siuuu = SIUUUUUU()"
      ],
      "metadata": {
        "id": "BiAFcVgoP-BX",
        "colab": {
          "base_uri": "https://localhost:8080/"
        },
        "outputId": "3387a6b6-48ef-4fc8-9b0c-4a9ea29ea52d"
      },
      "execution_count": null,
      "outputs": [
        {
          "output_type": "stream",
          "name": "stdout",
          "text": [
            "SIUUUU\n",
            "SIUUUU\n"
          ]
        }
      ]
    },
    {
      "cell_type": "markdown",
      "source": [
        "###Exercice : reproduire la même chose\n",
        "Tout ce qui a un rapport avec le le GPU ou la sauvegarde est basé sur un tuto."
      ],
      "metadata": {
        "id": "OMZl3eiOjxij"
      }
    },
    {
      "cell_type": "code",
      "source": [
        "#imports\n",
        "\n",
        "import torch\n",
        "import matplotlib.pyplot as plt\n",
        "\n",
        "import numpy as np\n",
        "from torch import nn\n",
        "from pathlib import Path"
      ],
      "metadata": {
        "id": "tdBbqf3fkBfb"
      },
      "execution_count": null,
      "outputs": []
    },
    {
      "cell_type": "code",
      "source": [
        "from google.colab import drive\n",
        "drive.mount('/content/drive')"
      ],
      "metadata": {
        "colab": {
          "base_uri": "https://localhost:8080/"
        },
        "id": "cRLffQE23_Tc",
        "outputId": "54040542-90c5-4b04-86ae-ea1f73363343"
      },
      "execution_count": null,
      "outputs": [
        {
          "output_type": "stream",
          "name": "stdout",
          "text": [
            "Drive already mounted at /content/drive; to attempt to forcibly remount, call drive.mount(\"/content/drive\", force_remount=True).\n"
          ]
        }
      ]
    },
    {
      "cell_type": "code",
      "source": [
        "device = \"cuda\" if torch.cuda.is_available() else \"cpu\"\n",
        "device"
      ],
      "metadata": {
        "id": "gi6HkNbPL_RK",
        "colab": {
          "base_uri": "https://localhost:8080/",
          "height": 36
        },
        "outputId": "7fda64fd-fd97-4c0b-da4e-b2004346420e"
      },
      "execution_count": null,
      "outputs": [
        {
          "output_type": "execute_result",
          "data": {
            "text/plain": [
              "'cpu'"
            ],
            "application/vnd.google.colaboratory.intrinsic+json": {
              "type": "string"
            }
          },
          "metadata": {},
          "execution_count": 30
        }
      ]
    },
    {
      "cell_type": "code",
      "source": [
        "#créer nos sets de données de départ\n",
        "a = 0.4\n",
        "b = 0.3\n",
        "X = torch.arange(0,1,0.01).unsqueeze(1)\n",
        "y = a*X+b\n",
        "\n",
        "#on separe les données de train et les données de test\n",
        "sample_size = int(X.shape[0]*0.8)\n",
        "train_X, test_X = X[:sample_size], X[sample_size:]\n",
        "train_y, test_y = y[:sample_size], y[sample_size:]\n",
        "\n",
        "#on affiche tout ça\n",
        "plt.figure(1)\n",
        "plt.scatter(train_X, train_y, c=\"r\", s=0.5)\n",
        "plt.scatter(test_X, test_y, c=\"b\", s=0.5)"
      ],
      "metadata": {
        "colab": {
          "base_uri": "https://localhost:8080/",
          "height": 448
        },
        "id": "iptiPcbHkbMX",
        "outputId": "9315c6ba-6589-4248-f925-34fbd7126cb0"
      },
      "execution_count": null,
      "outputs": [
        {
          "output_type": "execute_result",
          "data": {
            "text/plain": [
              "<matplotlib.collections.PathCollection at 0x7f0285a06d10>"
            ]
          },
          "metadata": {},
          "execution_count": 31
        },
        {
          "output_type": "display_data",
          "data": {
            "text/plain": [
              "<Figure size 640x480 with 1 Axes>"
            ],
            "image/png": "[encoded data removed]"
          },
          "metadata": {}
        }
      ]
    },
    {
      "cell_type": "code",
      "source": [
        "seed = 42\n",
        "torch.manual_seed(seed)\n",
        "class Model(nn.Module):\n",
        "  def __init__(self):\n",
        "    super().__init__()\n",
        "    self.linear1 = nn.Linear(in_features=1, out_features=1)\n",
        "  def forward(self, x:torch.Tensor) -> torch.Tensor:\n",
        "    return self.linear1(x)\n",
        "\n",
        "\n",
        "\n",
        "model = Model()\n",
        "for i in range(train_X.size()[0]):\n",
        "  if i%10==0:\n",
        "    print(model(train_X[i]), train_X[i])\n",
        "\n",
        "print(model.state_dict())"
      ],
      "metadata": {
        "id": "RkO571X2ka3g",
        "colab": {
          "base_uri": "https://localhost:8080/"
        },
        "outputId": "28ef6d1a-54d8-44d7-89ea-74e262fa853c"
      },
      "execution_count": null,
      "outputs": [
        {
          "output_type": "stream",
          "name": "stdout",
          "text": [
            "tensor([0.8300], grad_fn=<AddBackward0>) tensor([0.])\n",
            "tensor([0.9065], grad_fn=<AddBackward0>) tensor([0.1000])\n",
            "tensor([0.9829], grad_fn=<AddBackward0>) tensor([0.2000])\n",
            "tensor([1.0594], grad_fn=<AddBackward0>) tensor([0.3000])\n",
            "tensor([1.1358], grad_fn=<AddBackward0>) tensor([0.4000])\n",
            "tensor([1.2123], grad_fn=<AddBackward0>) tensor([0.5000])\n",
            "tensor([1.2887], grad_fn=<AddBackward0>) tensor([0.6000])\n",
            "tensor([1.3652], grad_fn=<AddBackward0>) tensor([0.7000])\n",
            "OrderedDict([('linear1.weight', tensor([[0.7645]])), ('linear1.bias', tensor([0.8300]))])\n"
          ]
        }
      ]
    },
    {
      "cell_type": "code",
      "source": [
        "optimizer = torch.optim.SGD(model.parameters(), lr=0.001, momentum=0.9)\n",
        "scheduler = torch.optim.lr_scheduler.ExponentialLR(optimizer, gamma=0.95) #Ceci est un ajout que j'ai fait moi-même\n",
        "loss_fn = nn.L1Loss()\n",
        "epochs = 1000\n",
        "\n",
        "def loop(epochs=epochs,optimizer=optimizer, loss_fn=loss_fn, scheduler=scheduler):\n",
        "  epochs_list = []\n",
        "  loss_list = []\n",
        "  test_loss_list = []\n",
        "\n",
        "  for epoch in range(epochs):\n",
        "    model.train()\n",
        "    loss = loss_fn(model(train_X),train_y)\n",
        "    optimizer.zero_grad()\n",
        "    loss.backward()\n",
        "    optimizer.step()\n",
        "    scheduler.step()\n",
        "    model.eval()\n",
        "    with torch.inference_mode():\n",
        "      test_loss = loss_fn(model(test_X), test_y)\n",
        "\n",
        "    if epoch%1==0:\n",
        "      with torch.no_grad():\n",
        "        epochs_list.append(epoch)\n",
        "        loss_list.append(loss.numpy().tolist())\n",
        "        test_loss_list.append(test_loss.numpy().tolist())\n",
        "\n",
        "    if epoch%100==50:\n",
        "      scheduler.step(0)\n",
        "\n",
        "\n",
        "  plt.figure(2)\n",
        "  plt.plot(epochs_list, loss_list)\n",
        "  plt.plot(epochs_list, test_loss_list)\n",
        "\n",
        "\n",
        "loop()\n",
        "print(f\"\\n\\n\\n{model.state_dict(), a, b}\")"
      ],
      "metadata": {
        "colab": {
          "base_uri": "https://localhost:8080/",
          "height": 503
        },
        "id": "U56U3vrqMErk",
        "outputId": "f5f0b8ba-a138-4ce5-abc6-6eb448a0faf0"
      },
      "execution_count": null,
      "outputs": [
        {
          "output_type": "stream",
          "name": "stdout",
          "text": [
            "\n",
            "\n",
            "\n",
            "(OrderedDict([('linear1.weight', tensor([[0.3999]])), ('linear1.bias', tensor([0.3002]))]), 0.4, 0.3)\n"
          ]
        },
        {
          "output_type": "display_data",
          "data": {
            "text/plain": [
              "<Figure size 640x480 with 1 Axes>"
            ],
            "image/png": "[encoded data removed]"
          },
          "metadata": {}
        }
      ]
    },
    {
      "cell_type": "code",
      "source": [
        "model.state_dict()"
      ],
      "metadata": {
        "colab": {
          "base_uri": "https://localhost:8080/"
        },
        "id": "3HnDrueaYNKs",
        "outputId": "f63e2668-a9d4-4fc0-b3c7-c4633aac1772"
      },
      "execution_count": null,
      "outputs": [
        {
          "output_type": "execute_result",
          "data": {
            "text/plain": [
              "OrderedDict([('linear1.weight', tensor([[0.3999]])),\n",
              "             ('linear1.bias', tensor([0.3002]))])"
            ]
          },
          "metadata": {},
          "execution_count": 34
        }
      ]
    },
    {
      "cell_type": "code",
      "source": [
        "loss_fn(model(train_X),train_y)"
      ],
      "metadata": {
        "colab": {
          "base_uri": "https://localhost:8080/"
        },
        "id": "R7wjf2XjbIWy",
        "outputId": "71742d85-06cb-47ae-ddbb-9eb5a0d84641"
      },
      "execution_count": null,
      "outputs": [
        {
          "output_type": "execute_result",
          "data": {
            "text/plain": [
              "tensor(0.0001, grad_fn=<MeanBackward0>)"
            ]
          },
          "metadata": {},
          "execution_count": 35
        }
      ]
    },
    {
      "cell_type": "code",
      "source": [
        "plt.figure(1)\n",
        "plt.plot(train_X.detach(), model(train_X).detach())\n",
        "plt.scatter(train_X.detach(), train_y.detach(), s=5, c=\"orange\")\n",
        "print(f\"{model.state_dict(), a, b}\")"
      ],
      "metadata": {
        "colab": {
          "base_uri": "https://localhost:8080/",
          "height": 448
        },
        "id": "Z5XNIthRcPy5",
        "outputId": "9ac80d9f-f9a4-46b1-90bf-24b3d2ac0571"
      },
      "execution_count": null,
      "outputs": [
        {
          "output_type": "stream",
          "name": "stdout",
          "text": [
            "(OrderedDict([('linear1.weight', tensor([[0.3999]])), ('linear1.bias', tensor([0.3002]))]), 0.4, 0.3)\n"
          ]
        },
        {
          "output_type": "display_data",
          "data": {
            "text/plain": [
              "<Figure size 640x480 with 1 Axes>"
            ],
            "image/png": "[encoded data removed]"
          },
          "metadata": {}
        }
      ]
    },
    {
      "cell_type": "code",
      "source": [
        "\n",
        "#Créer le chemin d'accès\n",
        "#MODEL_PATH = Path(\"/content/drive/MyDrive/Colab_Notebooks/Models\")\n",
        "#MODEL_PATH.mkdir(parents=True, exist_ok=True)\n",
        "\n",
        "#Créer l'emplacement du modèle\n",
        "#MODEL_NAME = \"01_Second_Model_Straight_Line.pth\"\n",
        "#MODEL_SAVE_PATH = MODEL_PATH / MODEL_NAME\n",
        "\n",
        "#torch.save(obj=model.state_dict(), f=MODEL_SAVE_PATH)"
      ],
      "metadata": {
        "id": "wFDkqTsP66hF"
      },
      "execution_count": null,
      "outputs": []
    },
    {
      "cell_type": "code",
      "source": [
        "torch.save(model, \"/content/drive/MyDrive/Colab_Notebooks/Models/model.pth\")"
      ],
      "metadata": {
        "id": "au4EwqzSS_cn"
      },
      "execution_count": null,
      "outputs": []
    },
    {
      "cell_type": "markdown",
      "source": [
        "###Normalement ici on a un modèle à disposition, déjà entrainé. On va simplement le charger à partir d'ici"
      ],
      "metadata": {
        "id": "z4409ovs5GID"
      }
    },
    {
      "cell_type": "code",
      "source": [
        "import torch\n",
        "import os\n",
        "from torch import nn\n",
        "import matplotlib.pyplot as plt\n",
        "import numpy as np\n",
        "from google.colab import drive\n",
        "if not os.path.exists('/content/drive'):\n",
        "  drive.mount('/content/drive')\n",
        "\n",
        "device = \"cuda\" if torch.cuda.is_available() else \"cpu\"\n",
        "print(device)\n",
        "\n",
        "\n",
        "class Model(nn.Module): #On charge la classe du modèle avant de pouvoir \"load\" le modèle sauvegardé\n",
        "\n",
        "  def __init__(self):\n",
        "    super().__init__()\n",
        "    self.liner1 = nn.Linear(in_features=1, out_features=1)\n",
        "  def forward(self, x:torch.Tensor) -> torch.Tensor:\n",
        "    return self.linear1(x)\n",
        "\n",
        "\n",
        "lmodel = torch.load(\"/content/drive/MyDrive/Colab_Notebooks/Models/model.pth\").to(device)\n",
        "\n"
      ],
      "metadata": {
        "colab": {
          "base_uri": "https://localhost:8080/"
        },
        "id": "ZBCot_6cA-B6",
        "outputId": "a847de5c-1479-49bd-b661-8929f8210b2a"
      },
      "execution_count": null,
      "outputs": [
        {
          "output_type": "stream",
          "name": "stdout",
          "text": [
            "Mounted at /content/drive\n",
            "cpu\n"
          ]
        }
      ]
    },
    {
      "cell_type": "code",
      "source": [
        "a = 0.4\n",
        "b = 0.3\n",
        "X = torch.arange(0,1,0.01).unsqueeze(1).to(device)\n",
        "y = a*X+b\n",
        "\n",
        "#on separe les données de train et les données de test\n",
        "sample_size = int(X.shape[0]*0.8)\n",
        "train_X, test_X = X[:sample_size], X[sample_size:]\n",
        "train_y, test_y = y[:sample_size], y[sample_size:]\n",
        "\n",
        "#on affiche tout ça\n",
        "plt.figure(1)\n",
        "plt.scatter(train_X.cpu(), train_y.cpu(), c=\"r\", s=0.5)\n",
        "with torch.inference_mode():\n",
        "  plt.scatter(test_X.cpu(), lmodel(test_X).cpu(), c=\"b\", s=0.5)\n"
      ],
      "metadata": {
        "colab": {
          "base_uri": "https://localhost:8080/",
          "height": 430
        },
        "id": "F9tu9wcZZAaT",
        "outputId": "37c77cf2-9e66-414b-8c86-4772a8fd0f43"
      },
      "execution_count": null,
      "outputs": [
        {
          "output_type": "display_data",
          "data": {
            "text/plain": [
              "<Figure size 640x480 with 1 Axes>"
            ],
            "image/png": "[encoded data removed]"
          },
          "metadata": {}
        }
      ]
    },
    {
      "cell_type": "code",
      "source": [
        "%%time\n",
        "print(lmodel(train_X))"
      ],
      "metadata": {
        "colab": {
          "base_uri": "https://localhost:8080/"
        },
        "id": "MTDpl0mKZsZd",
        "outputId": "d6047b60-34b5-496b-dfd5-9b833abd44a5"
      },
      "execution_count": null,
      "outputs": [
        {
          "output_type": "stream",
          "name": "stdout",
          "text": [
            "tensor([[0.3002],\n",
            "        [0.3042],\n",
            "        [0.3082],\n",
            "        [0.3122],\n",
            "        [0.3162],\n",
            "        [0.3202],\n",
            "        [0.3241],\n",
            "        [0.3281],\n",
            "        [0.3321],\n",
            "        [0.3361],\n",
            "        [0.3401],\n",
            "        [0.3441],\n",
            "        [0.3481],\n",
            "        [0.3521],\n",
            "        [0.3561],\n",
            "        [0.3601],\n",
            "        [0.3641],\n",
            "        [0.3681],\n",
            "        [0.3721],\n",
            "        [0.3761],\n",
            "        [0.3801],\n",
            "        [0.3841],\n",
            "        [0.3881],\n",
            "        [0.3921],\n",
            "        [0.3961],\n",
            "        [0.4001],\n",
            "        [0.4041],\n",
            "        [0.4081],\n",
            "        [0.4121],\n",
            "        [0.4161],\n",
            "        [0.4201],\n",
            "        [0.4241],\n",
            "        [0.4281],\n",
            "        [0.4321],\n",
            "        [0.4361],\n",
            "        [0.4401],\n",
            "        [0.4441],\n",
            "        [0.4481],\n",
            "        [0.4521],\n",
            "        [0.4561],\n",
            "        [0.4601],\n",
            "        [0.4641],\n",
            "        [0.4681],\n",
            "        [0.4721],\n",
            "        [0.4761],\n",
            "        [0.4801],\n",
            "        [0.4841],\n",
            "        [0.4881],\n",
            "        [0.4921],\n",
            "        [0.4961],\n",
            "        [0.5001],\n",
            "        [0.5041],\n",
            "        [0.5081],\n",
            "        [0.5121],\n",
            "        [0.5161],\n",
            "        [0.5201],\n",
            "        [0.5241],\n",
            "        [0.5281],\n",
            "        [0.5321],\n",
            "        [0.5361],\n",
            "        [0.5401],\n",
            "        [0.5441],\n",
            "        [0.5481],\n",
            "        [0.5521],\n",
            "        [0.5561],\n",
            "        [0.5601],\n",
            "        [0.5641],\n",
            "        [0.5681],\n",
            "        [0.5721],\n",
            "        [0.5761],\n",
            "        [0.5801],\n",
            "        [0.5841],\n",
            "        [0.5881],\n",
            "        [0.5921],\n",
            "        [0.5961],\n",
            "        [0.6001],\n",
            "        [0.6041],\n",
            "        [0.6081],\n",
            "        [0.6121],\n",
            "        [0.6161]], grad_fn=<AddmmBackward0>)\n",
            "CPU times: user 1.47 ms, sys: 3.19 ms, total: 4.66 ms\n",
            "Wall time: 42 ms\n"
          ]
        }
      ]
    }
  ]
}
